{
 "cells": [
  {
   "cell_type": "code",
   "execution_count": null,
   "id": "b047ed18-87a1-4da5-8fce-4fc26f694c9c",
   "metadata": {},
   "outputs": [],
   "source": [
    "import numpy as np\n",
    "import pandas as pd\n",
    "import matplotlib.pyplot as plt"
   ]
  },
  {
   "cell_type": "code",
   "execution_count": null,
   "id": "c8706457-97da-443f-b9c0-715942493bec",
   "metadata": {},
   "outputs": [],
   "source": [
    "def plot_df(fns):\n",
    "    dfs = []\n",
    "    for fn in fns:\n",
    "        dfs.append(pd.read_csv(fn, skiprows=2, header=None, sep='\\\\s+'))\n",
    "    for df, fn in zip(dfs, fns):\n",
    "        plt.scatter(df[1], df[2], alpha=0.5, label=fn);\n",
    "    plt.xlabel(\"F1\")\n",
    "    plt.ylabel(\"F2\")\n",
    "    plt.grid()\n",
    "    plt.legend()\n",
    "    plt.title(\"Pareto front\");\n",
    "    plt.show()\n",
    "\n",
    "    for df, fn in zip(dfs, fns):\n",
    "        plt.scatter(df[3], df[4], alpha=0.5, label=fn);\n",
    "    plt.xlabel(\"X1\")\n",
    "    plt.ylabel(\"X2\")\n",
    "    plt.grid()\n",
    "    plt.title(\"Pareto optimal solutions\");\n",
    "    plt.xlim(-1, 1)\n",
    "    plt.ylim(-1, 1)\n",
    "    plt.show()"
   ]
  },
  {
   "cell_type": "code",
   "execution_count": null,
   "id": "ee45afc8-6f34-42b8-945f-da95c7107f80",
   "metadata": {},
   "outputs": [],
   "source": [
    "plot_df([\"OstNonDomSolutions0_scratch.txt\"])"
   ]
  },
  {
   "cell_type": "code",
   "execution_count": null,
   "id": "25bdcea2-30aa-40f3-badf-8b70b92a932e",
   "metadata": {},
   "outputs": [],
   "source": [
    "plot_df([\"OstNonDomSolutions0_scratch.txt\", \"OstNonDomSolutions0_warmstart.txt\"])"
   ]
  },
  {
   "cell_type": "code",
   "execution_count": null,
   "id": "b45a4700-7cee-443d-a015-62fc1898d884",
   "metadata": {},
   "outputs": [],
   "source": [
    "plot_df([\"OstNonDomSolutions0_scratch.txt\", \"OstNonDomSolutions0_warmstart.txt\", \"OstNonDomSolutions0_cont.txt\"])"
   ]
  }
 ],
 "metadata": {
  "kernelspec": {
   "display_name": "Python 3 (ipykernel)",
   "language": "python",
   "name": "python3"
  },
  "language_info": {
   "codemirror_mode": {
    "name": "ipython",
    "version": 3
   },
   "file_extension": ".py",
   "mimetype": "text/x-python",
   "name": "python",
   "nbconvert_exporter": "python",
   "pygments_lexer": "ipython3",
   "version": "3.12.7"
  }
 },
 "nbformat": 4,
 "nbformat_minor": 5
}
